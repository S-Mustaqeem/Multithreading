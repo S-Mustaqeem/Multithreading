{
 "cells": [
  {
   "cell_type": "markdown",
   "id": "d914f713-5d5a-4636-b759-0b796f3c39ff",
   "metadata": {},
   "source": [
    "<h3>Q1.What is multithreading in python? why it is used? Name the module used to handle threads in python."
   ]
  },
  {
   "cell_type": "markdown",
   "id": "ba17beec-be10-4680-ab26-076b4c3f72d3",
   "metadata": {},
   "source": [
    "Multithreading in Python is a concurrent execution technique that allows multiple threads (smaller units of a program) to run concurrently within a single process. These threads share the same memory space and can execute independently. Python's Global Interpreter Lock (GIL) limits the ability to achieve true parallelism in multithreading, but it can still provide concurrency and certain performance benefits."
   ]
  },
  {
   "cell_type": "code",
   "execution_count": 3,
   "id": "5388045a-ea4a-436e-852e-b9b39da2b82c",
   "metadata": {},
   "outputs": [
    {
     "name": "stdout",
     "output_type": "stream",
     "text": [
      "Number: 1\n",
      "Number: 2\n",
      "Number: 3\n",
      "Number: 4\n",
      "Number: 5\n",
      "Letter: a\n",
      "Letter: b\n",
      "Letter: c\n",
      "Letter: d\n",
      "Letter: e\n",
      "Letter: f\n",
      "Letter: g\n",
      "Letter: h\n",
      "Letter: i\n",
      "Letter: j\n",
      "Both threads have finished.\n"
     ]
    }
   ],
   "source": [
    "\n",
    "import threading\n",
    "\n",
    "def print_numbers():\n",
    "    for i in range(1, 6):\n",
    "        print(f\"Number: {i}\")\n",
    "\n",
    "def print_letters():\n",
    "    for letter in range(ord(\"a\"),ord(\"j\")+1):\n",
    "        print(f\"Letter:\",chr(letter))\n",
    "\n",
    "# Create two threads\n",
    "thread1 = threading.Thread(target=print_numbers)\n",
    "thread2 = threading.Thread(target=print_letters)\n",
    "\n",
    "# Start the threads\n",
    "thread1.start()\n",
    "thread2.start()\n",
    "\n",
    "# Wait for both threads to finish\n",
    "thread1.join()\n",
    "thread2.join()\n",
    "\n",
    "print(\"Both threads have finished.\")\n"
   ]
  },
  {
   "cell_type": "markdown",
   "id": "0e5e6823-7f95-473c-87d2-5c049422b1b8",
   "metadata": {},
   "source": [
    "<h3>Q2. Why threading module used? write the use of the following function: </h3> 1.activeCount() <br>2.currentThread() <br>3.enumerate()"
   ]
  },
  {
   "cell_type": "markdown",
   "id": "619300b4-386e-4c06-b9ba-508d5c4177e7",
   "metadata": {},
   "source": [
    "Ans: Threading module is used to run a different programs in single core or we can say to execute a diffrent kind of program in only sigle core.\n",
    "The threading module in Python is used for creating and managing threads in multithreaded applications. It provides a high-level interface for working with threads and simplifies thread management."
   ]
  },
  {
   "cell_type": "code",
   "execution_count": 5,
   "id": "529f85ff-5733-41cc-b829-21ba102ac43f",
   "metadata": {},
   "outputs": [
    {
     "name": "stdout",
     "output_type": "stream",
     "text": [
      "Active threads: 8\n"
     ]
    }
   ],
   "source": [
    "#1. activeThread() : active thread is used to check how many active thread is present in our program\n",
    "#in new update activeThread() is replaced with active_thread()\n",
    "import threading\n",
    "\n",
    "def local():\n",
    "    True\n",
    "\n",
    "thread1 = threading.Thread(target=local)\n",
    "thread2 = threading.Thread(target=local)\n",
    "\n",
    "thread1.start()\n",
    "thread2.start()\n",
    "\n",
    "\n",
    "print(f\"Active threads: {threading.active_count()}\")"
   ]
  },
  {
   "cell_type": "code",
   "execution_count": 1,
   "id": "a4f504c3-0dd9-40be-9a12-5d78b70ecbc4",
   "metadata": {},
   "outputs": [
    {
     "name": "stdout",
     "output_type": "stream",
     "text": [
      "Current Thread Name: Thread 1\n",
      "Current Thread Name: Thread 2\n"
     ]
    }
   ],
   "source": [
    "#2. currentThread(): it allows us to access current thread details such as name.\n",
    "#currentThread is relaced with current_thread()\n",
    "import threading\n",
    "\n",
    "def my_function():\n",
    "    current_thread = threading.current_thread()\n",
    "    print(f\"Current Thread Name: {current_thread.name}\")\n",
    "\n",
    "thread1 = threading.Thread(target=my_function, name=\"Thread 1\")\n",
    "thread2 = threading.Thread(target=my_function, name=\"Thread 2\")\n",
    "\n",
    "thread1.start()\n",
    "thread2.start()\n"
   ]
  },
  {
   "cell_type": "code",
   "execution_count": 4,
   "id": "5df8b618-1df0-4954-bb20-a964d825d583",
   "metadata": {},
   "outputs": [
    {
     "name": "stdout",
     "output_type": "stream",
     "text": [
      "Thread Name: MainThread, Thread ID: 140671901394752\n",
      "Thread Name: IOPub, Thread ID: 140671830865472\n",
      "Thread Name: Heartbeat, Thread ID: 140671822472768\n",
      "Thread Name: Thread-3 (_watch_pipe_fd), Thread ID: 140671797294656\n",
      "Thread Name: Thread-4 (_watch_pipe_fd), Thread ID: 140671453230656\n",
      "Thread Name: Control, Thread ID: 140671444837952\n",
      "Thread Name: IPythonHistorySavingThread, Thread ID: 140671436445248\n",
      "Thread Name: Thread-2, Thread ID: 140671427003968\n"
     ]
    }
   ],
   "source": [
    "#enumerate(): It is handy for obtaining a list of all active threads, allowing you to inspect and manage them.\n",
    "import threading\n",
    "import time\n",
    "\n",
    "def my_function():\n",
    "    time.sleep(1)\n",
    "\n",
    "thread1 = threading.Thread(target=my_function)\n",
    "thread2 = threading.Thread(target=my_function)\n",
    "\n",
    "thread1.start()\n",
    "thread2.start()\n",
    "\n",
    "time.sleep(2)# Give threads time to complete\n",
    "\n",
    "all_threads = threading.enumerate()\n",
    "for thread in all_threads:\n",
    "    print(f\"Thread Name: {thread.name}, Thread ID: {thread.ident}\")\n"
   ]
  },
  {
   "cell_type": "markdown",
   "id": "cde7a1e7-e849-49ae-bbe8-f3bdd468d21f",
   "metadata": {
    "tags": []
   },
   "source": [
    "<h3>Q3. Explain the following function: </h3>1. run() <br>2.start() <br> 3. join() <br>4. isAlive()"
   ]
  },
  {
   "cell_type": "markdown",
   "id": "3575d445-4c15-4494-8c09-ea7e1cae26b3",
   "metadata": {
    "tags": []
   },
   "source": [
    "1.run():<br>\n",
    "run() is not a function but a method that can be overridden in a custom thread class. When you create a custom thread class by subclassing threading.Thread, you can provide your own run() method. The run() method contains the code that will be executed in the thread.\n",
    "<br>Use: You define the behavior of the thread by overriding the run() method. When you call the start() method on an instance of your custom thread class, it initiates the thread, and the run() method is executed in that thread.\n",
    "\n"
   ]
  },
  {
   "cell_type": "code",
   "execution_count": 5,
   "id": "2986f365-9756-4439-940b-a273a8dd9691",
   "metadata": {},
   "outputs": [
    {
     "name": "stdout",
     "output_type": "stream",
     "text": [
      "thread is running\n"
     ]
    }
   ],
   "source": [
    "import threading\n",
    "\n",
    "class MyThread(threading.Thread):\n",
    "    def run(self):\n",
    "        print(\"thread is running\")\n",
    "\n",
    "t = MyThread()\n",
    "t.run()"
   ]
  },
  {
   "cell_type": "markdown",
   "id": "ec6441a9-02d3-4fb2-8398-11d1b9618232",
   "metadata": {},
   "source": [
    "2.start():<br>\n",
    "start() is a method used to initiate the execution of a thread. When you call start() on a Thread object, it begins executing the run() method in a new thread.\n",
    "<br>Use: This method is essential to start the execution of a thread. Once start() is called, the run() method will run in a separate thread concurrently with other threads."
   ]
  },
  {
   "cell_type": "code",
   "execution_count": 7,
   "id": "8575e6f5-0d58-4f5a-9e33-207e311cb3ef",
   "metadata": {},
   "outputs": [
    {
     "name": "stdout",
     "output_type": "stream",
     "text": [
      "Thread is running\n"
     ]
    }
   ],
   "source": [
    "import threading\n",
    "\n",
    "def my_function():\n",
    "    print(\"Thread is running\")\n",
    "\n",
    "thread = threading.Thread(target=my_function)\n",
    "thread.start()\n"
   ]
  },
  {
   "cell_type": "markdown",
   "id": "4ca0696f-7a5b-4e30-9b4a-600c88c254b1",
   "metadata": {},
   "source": [
    "3.join():<br>\n",
    "join() is a method that allows one thread to wait for the completion of another thread. When you call join() on a Thread object, the calling thread will pause and wait for the target thread to finish its execution.<br>\n",
    "Use: This method is useful when you want to ensure that a particular thread completes its task before proceeding with other tasks in your program."
   ]
  },
  {
   "cell_type": "code",
   "execution_count": 8,
   "id": "662b4792-71a1-44bb-852f-5859ad4f51b4",
   "metadata": {},
   "outputs": [
    {
     "name": "stdout",
     "output_type": "stream",
     "text": [
      "Thread is running\n"
     ]
    }
   ],
   "source": [
    "import threading\n",
    "\n",
    "def my_function():\n",
    "    print(\"Thread is running\")\n",
    "\n",
    "thread = threading.Thread(target=my_function)\n",
    "thread.start()\n",
    "thread.join()\n"
   ]
  },
  {
   "cell_type": "markdown",
   "id": "45078c81-4e24-44b0-a488-2a23cbd09745",
   "metadata": {},
   "source": [
    "4.isAlive():<br>\n",
    "isAlive() is a method used to check whether a thread is currently active and executing. It returns True if the thread is still running and False if the thread has completed its execution.\n",
    "<br>Use: This method is helpful for determining the status of a thread and can be used to make decisions based on whether a thread is still active or has finished."
   ]
  },
  {
   "cell_type": "code",
   "execution_count": 9,
   "id": "91c7da25-438e-4c32-8e72-826d2a42c453",
   "metadata": {},
   "outputs": [
    {
     "name": "stdout",
     "output_type": "stream",
     "text": [
      "Thread is still running\n"
     ]
    }
   ],
   "source": [
    "import threading\n",
    "import time\n",
    "\n",
    "def my_function():\n",
    "    time.sleep(2)\n",
    "\n",
    "thread = threading.Thread(target=my_function)\n",
    "thread.start()\n",
    "time.sleep(1)\n",
    "\n",
    "if thread.is_alive():\n",
    "    print(\"Thread is still running\")\n",
    "else:\n",
    "    print(\"Thread has finished\")"
   ]
  },
  {
   "cell_type": "markdown",
   "id": "01cbd2ca-9e20-4db3-9910-3452804660a1",
   "metadata": {},
   "source": [
    "<h3>Q4.Write a python program to create two threads. Thread one must print the list of squares and thread two must print the list of cubes."
   ]
  },
  {
   "cell_type": "code",
   "execution_count": 12,
   "id": "bbacf128-cce2-4b1d-8e38-20cb6104289b",
   "metadata": {},
   "outputs": [
    {
     "name": "stdin",
     "output_type": "stream",
     "text": [
      "Enter last number you want to print sq and cube:  5\n"
     ]
    },
    {
     "name": "stdout",
     "output_type": "stream",
     "text": [
      "['square of 1 is: 1']\n",
      "['square of 2 is: 4']\n",
      "['square of 3 is: 9']\n",
      "['square of 4 is: 16']\n",
      "['square of 5 is: 25']\n",
      "['cube of 1 is: 1']\n",
      "['cube of 2 is: 8']\n",
      "['cube of 3 is: 27']\n",
      "['cube of 4 is: 64']\n",
      "['cube of 5 is: 125']\n",
      "Complete\n"
     ]
    }
   ],
   "source": [
    "import threading\n",
    "def print_sq(n):\n",
    "    for i in range(1,n+1):\n",
    "        l=[]\n",
    "        l.append(f\"square of {i} is: {i*i}\")\n",
    "        print(l)\n",
    "def print_cube(n):\n",
    "    for i in range(1,n+1):\n",
    "        l=[]\n",
    "        l.append(f\"cube of {i} is: {i*i*i}\")\n",
    "        print(l)\n",
    "\n",
    "n=int(input(\"Enter last number you want to print sq and cube: \"))\n",
    "t1=threading.Thread(target=print_sq(n))\n",
    "t2=threading.Thread(target=print_cube(n))\n",
    "\n",
    "t1.start()\n",
    "t2.start()\n",
    "t1.join()\n",
    "t2.join()\n",
    "print(\"Complete\")"
   ]
  },
  {
   "cell_type": "markdown",
   "id": "ca7edd1c-4385-4627-afc4-4207cabf5c99",
   "metadata": {},
   "source": [
    "<h3>Q5. State advantages and disadvantages of Multithreading."
   ]
  },
  {
   "cell_type": "markdown",
   "id": "b16649d3-9f12-4ed0-bba9-e2c266820f92",
   "metadata": {},
   "source": [
    "Advantages of Multithreading:\n",
    "<br>1. Improved Responsiveness: Multithreading allows applications to remain responsive while executing time-consuming tasks.<br>2. Efficient Resource Sharing: Threads can share data and resources efficiently within a single process.\n",
    "<br>3. Better Resource Utilization: Multithreading leverages multi-core CPUs for improved CPU utilization.\n",
    "<br>4. Simplified Program Structure: It breaks code into smaller, modular threads, making code organization easier.\n",
    "<br>5. Asynchronous I/O: Multithreading handles I/O-bound tasks concurrently, enhancing I/O performance.\n",
    "\n",
    "Disadvantages of Multithreading:\n",
    "<br>1. Complexity: Multithreaded programs can be complex and challenging to develop and maintain.\n",
    "<br>2. Race Conditions: Race conditions can lead to unpredictable results when multiple threads access shared data concurrently.\n",
    "<br>3. Synchronization Overhead: Synchronization to prevent race conditions can introduce performance overhead.\n",
    "<br>4. Resource Contentions: Threads contending for shared resources may result in performance bottlenecks.\n",
    "<br>5. Global Interpreter Lock (GIL): In Python, GIL limits the effectiveness of multithreading for CPU-bound tasks."
   ]
  },
  {
   "cell_type": "markdown",
   "id": "f9a1187a-1226-4a29-988a-de50252a3de9",
   "metadata": {},
   "source": [
    "<h3>Q6. Explain deadlocks and race conditions."
   ]
  },
  {
   "cell_type": "markdown",
   "id": "085b3145-8f9a-4c14-b5d7-bc958764ca8f",
   "metadata": {},
   "source": [
    "Ans: \n",
    "Deadlock and race condition are both synchronization issues that can occur in multithreaded or concurrent programs. They are problematic situations that can lead to unexpected and undesirable behavior.\n",
    "\n",
    "Deadlock:\n",
    "- Definition: A deadlock is a situation in which two or more threads or processes are unable to proceed because each is waiting for the other(s) to release a resource.\n",
    "- Cause: Deadlocks typically occur when multiple threads acquire locks or resources in a circular or cyclic manner.\n",
    "- Characteristics: In a deadlock, threads are stuck indefinitely, unable to make progress. It can result in a complete halt of the program or system.\n",
    "- Example: Imagine two threads, A and B, where A holds a lock on resource X and is waiting for resource Y, while B holds a lock on Y and is waiting for X. Both are waiting for the other to release the resource, causing a deadlock.\n",
    "\n",
    "Race Condition:\n",
    "- Definition: A race condition occurs when two or more threads or processes access shared data concurrently, and the final outcome depends on the order of execution and timing.\n",
    "- Cause: Race conditions happen when there is a lack of proper synchronization mechanisms (e.g., locks) to control access to shared resources.\n",
    "- Characteristics: Race conditions can lead to unpredictable and inconsistent results. They can be hard to reproduce and debug because they are often non-deterministic.\n",
    "- Example: Consider two threads accessing a shared variable without proper synchronization. Depending on the timing, both threads may read and write the variable concurrently, resulting in incorrect or inconsistent data.\n",
    "\n",
    "Key Differences:\n",
    "\n",
    "1. Cause: Deadlocks occur due to circular resource dependencies, while race conditions are caused by concurrent access to shared resources without proper synchronization.\n",
    "\n",
    "2. Effect: Deadlocks result in threads being stuck and unresponsive, while race conditions lead to unpredictable and inconsistent data.\n",
    "\n",
    "3. Synchronization: Deadlocks may involve excessive synchronization due to threads holding and waiting for locks/resources. Race conditions involve insufficient synchronization, where shared resources are accessed without proper control.\n",
    "\n",
    "4. Handling: Deadlocks are typically handled by avoiding or detecting them, often through careful design and deadlock prevention algorithms. Race conditions are addressed by using synchronization mechanisms like locks, semaphores, or mutexes to control access to shared resources.\n",
    "\n",
    "Both deadlocks and race conditions are common pitfalls in concurrent programming, and addressing them requires a solid understanding of synchronization techniques and careful design of multithreaded applications."
   ]
  },
  {
   "cell_type": "code",
   "execution_count": null,
   "id": "896abfe7-e868-40a5-ab1d-c3711257d616",
   "metadata": {},
   "outputs": [],
   "source": []
  },
  {
   "cell_type": "code",
   "execution_count": null,
   "id": "1cbcd7df-6c38-446e-9170-c8d1e650e0d1",
   "metadata": {},
   "outputs": [],
   "source": []
  },
  {
   "cell_type": "code",
   "execution_count": null,
   "id": "2ca561d4-9a66-4f16-a3fa-ac5fe423b60b",
   "metadata": {},
   "outputs": [],
   "source": []
  }
 ],
 "metadata": {
  "kernelspec": {
   "display_name": "Python 3 (ipykernel)",
   "language": "python",
   "name": "python3"
  },
  "language_info": {
   "codemirror_mode": {
    "name": "ipython",
    "version": 3
   },
   "file_extension": ".py",
   "mimetype": "text/x-python",
   "name": "python",
   "nbconvert_exporter": "python",
   "pygments_lexer": "ipython3",
   "version": "3.10.8"
  }
 },
 "nbformat": 4,
 "nbformat_minor": 5
}
